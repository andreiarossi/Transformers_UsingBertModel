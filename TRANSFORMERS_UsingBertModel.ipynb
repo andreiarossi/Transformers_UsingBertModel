{
  "nbformat": 4,
  "nbformat_minor": 0,
  "metadata": {
    "colab": {
      "provenance": [],
      "authorship_tag": "ABX9TyMjOL2vAWwHtjyUNi8xP9JH",
      "include_colab_link": true
    },
    "kernelspec": {
      "name": "python3",
      "display_name": "Python 3"
    },
    "language_info": {
      "name": "python"
    }
  },
  "cells": [
    {
      "cell_type": "markdown",
      "metadata": {
        "id": "view-in-github",
        "colab_type": "text"
      },
      "source": [
        "<a href=\"https://colab.research.google.com/github/andreiarossi/Transformers_UsingBertModel/blob/main/TRANSFORMERS_UsingBertModel.ipynb\" target=\"_parent\"><img src=\"https://colab.research.google.com/assets/colab-badge.svg\" alt=\"Open In Colab\"/></a>"
      ]
    },
    {
      "cell_type": "code",
      "source": [
        "!pip install transformers"
      ],
      "metadata": {
        "id": "qX0ouRfdafVY"
      },
      "execution_count": null,
      "outputs": []
    },
    {
      "cell_type": "code",
      "execution_count": null,
      "metadata": {
        "id": "eGKnhm1MaY0n"
      },
      "outputs": [],
      "source": [
        "from transformers import pipeline\n",
        "\n",
        "# Charging Bert Model\n",
        "fill_mask = pipeline(\"fill-mask\", model=\"bert-base-uncased\")\n"
      ]
    },
    {
      "cell_type": "code",
      "source": [
        "from collections.abc import Sequence\n",
        "# Prediction\n",
        "result = fill_mask(\"The capital of France is [MASK].\")\n",
        "print(\"Shows results for mask:\")\n",
        "for r in result:\n",
        "    print(f\" - Word: {r['token_str']}, Token: {r['token']}, Score: {r['score']:.3f}, Sequence: {r['sequence']}\")"
      ],
      "metadata": {
        "id": "RBrYzxsTbCm4",
        "colab": {
          "base_uri": "https://localhost:8080/"
        },
        "outputId": "77392344-50de-47b9-c2dd-62278b933004"
      },
      "execution_count": null,
      "outputs": [
        {
          "output_type": "stream",
          "name": "stdout",
          "text": [
            "Shows results for mask:\n",
            " - Word: paris, Token: 3000, Score: 0.417, Sequence: the capital of france is paris.\n",
            " - Word: lille, Token: 22479, Score: 0.071, Sequence: the capital of france is lille.\n",
            " - Word: lyon, Token: 10241, Score: 0.063, Sequence: the capital of france is lyon.\n",
            " - Word: marseille, Token: 16766, Score: 0.044, Sequence: the capital of france is marseille.\n",
            " - Word: tours, Token: 7562, Score: 0.030, Sequence: the capital of france is tours.\n"
          ]
        }
      ]
    }
  ]
}