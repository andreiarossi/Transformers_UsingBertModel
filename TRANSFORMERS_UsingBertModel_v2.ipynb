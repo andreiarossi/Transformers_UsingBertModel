{
  "nbformat": 4,
  "nbformat_minor": 0,
  "metadata": {
    "colab": {
      "provenance": [],
      "authorship_tag": "ABX9TyPxoI1De7CGZVb3LxAlBNIE",
      "include_colab_link": true
    },
    "kernelspec": {
      "name": "python3",
      "display_name": "Python 3"
    },
    "language_info": {
      "name": "python"
    }
  },
  "cells": [
    {
      "cell_type": "markdown",
      "metadata": {
        "id": "view-in-github",
        "colab_type": "text"
      },
      "source": [
        "<a href=\"https://colab.research.google.com/github/andreiarossi/Transformers_UsingBertModel/blob/main/TRANSFORMERS_UsingBertModel_v2.ipynb\" target=\"_parent\"><img src=\"https://colab.research.google.com/assets/colab-badge.svg\" alt=\"Open In Colab\"/></a>"
      ]
    },
    {
      "cell_type": "code",
      "execution_count": 3,
      "metadata": {
        "colab": {
          "base_uri": "https://localhost:8080/"
        },
        "id": "b16CijLRqZy8",
        "outputId": "3f6f2a1f-7387-4f20-d403-aca260ed0cd5"
      },
      "outputs": [
        {
          "output_type": "stream",
          "name": "stderr",
          "text": [
            "Some weights of the model checkpoint at bert-base-uncased were not used when initializing BertForMaskedLM: ['bert.pooler.dense.bias', 'bert.pooler.dense.weight', 'cls.seq_relationship.bias', 'cls.seq_relationship.weight']\n",
            "- This IS expected if you are initializing BertForMaskedLM from the checkpoint of a model trained on another task or with another architecture (e.g. initializing a BertForSequenceClassification model from a BertForPreTraining model).\n",
            "- This IS NOT expected if you are initializing BertForMaskedLM from the checkpoint of a model that you expect to be exactly identical (initializing a BertForSequenceClassification model from a BertForSequenceClassification model).\n",
            "Device set to use cpu\n"
          ]
        },
        {
          "output_type": "stream",
          "name": "stdout",
          "text": [
            "\n",
            "Sentence: Hugging Face is a platform for [MASK].\n",
            "Predictions:\n",
            "1. Token: communication   | Confidence: 0.034\n",
            "2. Token: movement        | Confidence: 0.028\n",
            "3. Token: action          | Confidence: 0.020\n"
          ]
        }
      ],
      "source": [
        "from transformers import pipeline\n",
        "\n",
        "def create_fill_mask_pipeline(model_name=\"bert-base-uncased\"):\n",
        "    return pipeline(\"fill-mask\", model=model_name)\n",
        "\n",
        "def predict_masked_word(pipeline_func, sentence, top_k=3, show_all=True):\n",
        "    results = pipeline_func(sentence)\n",
        "\n",
        "    print(f\"\\nSentence: {sentence}\")\n",
        "    print(\"Predictions:\")\n",
        "    for i, r in enumerate(results[:top_k]):\n",
        "        print(f\"{i+1}. Token: {r['token_str']:<15} | Confidence: {r['score']:.3f}\")\n",
        "\n",
        "    if not show_all:\n",
        "        best = results[0]\n",
        "        print(f\"\\n Best prediction: '{best['token_str']}' with confidence {best['score']:.3f}\")\n",
        "\n",
        "# Create the fill-mask pipeline with BERT\n",
        "fill_mask = create_fill_mask_pipeline()\n",
        "\n",
        "# Example sentences\n",
        "sentences = [\n",
        "    \"Hugging Face is a platform for [MASK].\",\n",
        "]\n",
        "\n",
        "# Run predictions for each sentence\n",
        "for sentence in sentences:\n",
        "    predict_masked_word(fill_mask, sentence, show_all=True)\n"
      ]
    }
  ]
}